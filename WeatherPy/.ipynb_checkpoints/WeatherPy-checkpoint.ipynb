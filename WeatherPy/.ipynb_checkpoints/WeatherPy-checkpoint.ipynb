{
 "cells": [
  {
   "cell_type": "markdown",
   "metadata": {},
   "source": [
    "# WeatherPy\n",
    "----\n",
    "\n",
    "#### Note\n",
    "* Instructions have been included for each segment. You do not have to follow them exactly, but they are included to help you think through the steps."
   ]
  },
  {
   "cell_type": "code",
   "execution_count": null,
   "metadata": {},
   "outputs": [],
   "source": [
    "# Three Observable trends based on the plots :\n",
    "# Based on the limited data we have on the cities that were randomly chosen for certain latitides and longitudes\n",
    "\n",
    "# 1) Temperature and Latitude surely have a correlation and the temperatures seem to go down when the \n",
    "#    latitude shifts away from 0, both for positive and negative Latitudes.  For 0 latitude we see more nominal\n",
    "#    temperatures.\n",
    "\n",
    "# 2) Humidity, Windspeed, Cloudiness dont have a correlation with Latitude\n",
    "\n",
    "# 3) Northern and Southern hemispheres temperatures were interestingly negative and positive r-values (respectively)\n",
    "#    showing an opposote correlation based on Latitude.  Whereas : for Cloudiness, WindSpeed and Humidity\n",
    "#    both the N & S hemispheres had same impact and no -ve or +ve correlation."
   ]
  },
  {
   "cell_type": "code",
   "execution_count": 1,
   "metadata": {
    "scrolled": true
   },
   "outputs": [],
   "source": [
    "# Dependencies and Setup\n",
    "import matplotlib.pyplot as plt\n",
    "import pandas as pd\n",
    "import numpy as np\n",
    "import requests\n",
    "from scipy.stats import zscore\n",
    "import time\n",
    "from scipy.stats import linregress\n",
    "\n",
    "# Import API key\n",
    "from api_keys import weather_api_key\n",
    "\n",
    "# Incorporated citipy to determine city based on latitude and longitude\n",
    "from citipy import citipy\n",
    "\n",
    "# Output File (CSV)\n",
    "output_data_file = \"output_data/cities.csv\"\n",
    "\n",
    "# Range of latitudes and longitudes\n",
    "lat_range = (-90, 90)\n",
    "lng_range = (-180, 180)"
   ]
  },
  {
   "cell_type": "markdown",
   "metadata": {},
   "source": [
    "## Generate Cities List"
   ]
  },
  {
   "cell_type": "code",
   "execution_count": 4,
   "metadata": {},
   "outputs": [
    {
     "data": {
      "text/plain": [
       "632"
      ]
     },
     "execution_count": 4,
     "metadata": {},
     "output_type": "execute_result"
    }
   ],
   "source": [
    "# List for holding lat_lngs and cities\n",
    "lat_lngs = []\n",
    "cities = []\n",
    "\n",
    "# Create a set of random lat and lng combinations\n",
    "lats = np.random.uniform(lat_range[0], lat_range[1], size=1500)\n",
    "lngs = np.random.uniform(lng_range[0], lng_range[1], size=1500)\n",
    "lat_lngs = zip(lats, lngs)\n",
    "\n",
    "# Identify nearest city for each lat, lng combination\n",
    "for lat_lng in lat_lngs:\n",
    "    city = citipy.nearest_city(lat_lng[0], lat_lng[1]).city_name\n",
    "    \n",
    "    # If the city is unique, then add it to a our cities list\n",
    "    if city not in cities:\n",
    "        cities.append(city)\n",
    "\n",
    "# Print the city count to confirm sufficient count\n",
    "len(cities)"
   ]
  },
  {
   "cell_type": "markdown",
   "metadata": {},
   "source": [
    "### Perform API Calls\n",
    "* Perform a weather check on each city using a series of successive API calls.\n",
    "* Include a print log of each city as it'sbeing processed (with the city number and city name).\n"
   ]
  },
  {
   "cell_type": "code",
   "execution_count": 11,
   "metadata": {},
   "outputs": [
    {
     "name": "stdout",
     "output_type": "stream",
     "text": [
      "Beginning Data Retrieval\n",
      "------------------------\n",
      "Processing Record 0 of Set 1 | City : talcahuano \n",
      "Processing Record 1 of Set 1 | City : bathsheba \n",
      "Processing Record 2 of Set 1 | City : kavaratti \n",
      "Processing Record 3 of Set 1 | City : la plata \n",
      "Processing Record 4 of Set 1 | City : richards bay \n",
      "Processing Record 5 of Set 1 | City : avarua \n",
      "Processing Record 6 of Set 1 | City : tasiilaq \n",
      "Processing Record 7 of Set 1 | City : guangyuan \n",
      "Processing Record 8 of Set 1 | City : ko samui \n",
      "Processing Record 9 of Set 1 | City : atuona \n",
      "Processing Record 10 of Set 1 | City : punta arenas \n",
      "Processing Record 11 of Set 1 | City : lasa \n",
      "Processing Record 12 of Set 1 | City : gigmoto \n",
      "Processing Record 13 of Set 1 | City : ancud \n",
      "Processing Record 14 of Set 1 | City : narsaq \n",
      "Processing Record 15 of Set 1 | City : tommot \n",
      "Processing Record 16 of Set 1 | City : adrar \n",
      "Processing Record 17 of Set 1 | City : coihaique \n",
      "Processing Record 18 of Set 1 | City : cape town \n",
      "Processing Record 19 of Set 1 | City : teguldet \n",
      "Processing Record 20 of Set 1 | City : hithadhoo \n",
      "Processing Record 21 of Set 1 | City : busselton \n",
      "Processing Record 22 of Set 1 | City : rikitea \n",
      "Processing Record 23 of Set 1 | City : arlit \n",
      "Processing Record 24 of Set 1 | City : kapaa \n",
      "Processing Record 25 of Set 1 | City : maragogi \n",
      "Processing Record 26 of Set 1 | City : aklavik \n",
      "Processing Record 27 of Set 1 | City : codrington \n",
      "Processing Record 28 of Set 1 | City : borogontsy \n",
      "Processing Record 29 of Set 1 | City : dikson \n",
      "Processing Record 30 of Set 1 | City : nikolskoye \n",
      "Processing Record 31 of Set 1 | City : chokurdakh \n",
      "Processing Record 32 of Set 1 | City : albany \n",
      "Processing Record 33 of Set 1 | City : kaitangata \n",
      "Processing Record 34 of Set 1 | City : dalvik \n",
      "Processing Record 35 of Set 1 | City : east london \n",
      "Processing Record 36 of Set 1 | City : san patricio \n",
      "Processing Record 37 of Set 1 | City : pucara \n",
      "Processing Record 38 of Set 1 | City : sao joao da barra \n",
      "Processing Record 39 of Set 1 | City : saint george \n",
      "Processing Record 40 of Set 1 | City : lakes entrance \n",
      "Processing Record 41 of Set 1 | City : kurumkan \n",
      "Processing Record 42 of Set 1 | City : bengkulu \n",
      "City not found. Skipping...\n",
      "Processing Record 43 of Set 1 | City : mnogovershinnyy \n",
      "Processing Record 44 of Set 1 | City : yellowknife \n",
      "City not found. Skipping...\n",
      "Processing Record 45 of Set 1 | City : tuktoyaktuk \n",
      "Processing Record 46 of Set 1 | City : mataura \n",
      "Processing Record 47 of Set 1 | City : lavrentiya \n",
      "Processing Record 48 of Set 1 | City : qaanaaq \n",
      "Processing Record 49 of Set 1 | City : goundam \n",
      "Processing Record 0 of Set 2 | City : bonfim \n",
      "Processing Record 1 of Set 2 | City : carnarvon \n",
      "Processing Record 2 of Set 2 | City : pimentel \n",
      "Processing Record 3 of Set 2 | City : ushuaia \n",
      "Processing Record 4 of Set 2 | City : upernavik \n",
      "Processing Record 5 of Set 2 | City : vaini \n",
      "Processing Record 6 of Set 2 | City : salalah \n",
      "Processing Record 7 of Set 2 | City : reconquista \n",
      "Processing Record 8 of Set 2 | City : prince rupert \n",
      "Processing Record 9 of Set 2 | City : sohag \n",
      "Processing Record 10 of Set 2 | City : hermanus \n",
      "City not found. Skipping...\n",
      "Processing Record 11 of Set 2 | City : saskylakh \n",
      "Processing Record 12 of Set 2 | City : castro \n",
      "Processing Record 13 of Set 2 | City : sirvintos \n",
      "Processing Record 14 of Set 2 | City : denpasar \n",
      "Processing Record 15 of Set 2 | City : balkhash \n",
      "Processing Record 16 of Set 2 | City : severo-kurilsk \n",
      "Processing Record 17 of Set 2 | City : coquimbo \n",
      "Processing Record 18 of Set 2 | City : alice springs \n",
      "Processing Record 19 of Set 2 | City : lar \n",
      "Processing Record 20 of Set 2 | City : kingaroy \n",
      "Processing Record 21 of Set 2 | City : kemijarvi \n",
      "Processing Record 22 of Set 2 | City : aksarka \n",
      "Processing Record 23 of Set 2 | City : boyolangu \n",
      "Processing Record 24 of Set 2 | City : sonoita \n",
      "Processing Record 25 of Set 2 | City : sovetskiy \n",
      "Processing Record 26 of Set 2 | City : hobart \n",
      "Processing Record 27 of Set 2 | City : souillac \n",
      "City not found. Skipping...\n",
      "Processing Record 28 of Set 2 | City : izumo \n",
      "Processing Record 29 of Set 2 | City : newtyle \n",
      "Processing Record 30 of Set 2 | City : khatanga \n",
      "Processing Record 31 of Set 2 | City : bethel \n",
      "Processing Record 32 of Set 2 | City : rock springs \n",
      "City not found. Skipping...\n",
      "Processing Record 33 of Set 2 | City : pasighat \n",
      "Processing Record 34 of Set 2 | City : ahipara \n",
      "Processing Record 35 of Set 2 | City : zapolyarnyy \n",
      "Processing Record 36 of Set 2 | City : mahebourg \n",
      "Processing Record 37 of Set 2 | City : kodinsk \n",
      "Processing Record 38 of Set 2 | City : nanga eboko \n",
      "Processing Record 39 of Set 2 | City : jamestown \n",
      "Processing Record 40 of Set 2 | City : kargasok \n",
      "Processing Record 41 of Set 2 | City : chuy \n",
      "Processing Record 42 of Set 2 | City : palafrugell \n",
      "Processing Record 43 of Set 2 | City : grand-santi \n",
      "City not found. Skipping...\n",
      "Processing Record 44 of Set 2 | City : husavik \n",
      "Processing Record 45 of Set 2 | City : tura \n",
      "Processing Record 46 of Set 2 | City : anadyr \n",
      "City not found. Skipping...\n",
      "Processing Record 47 of Set 2 | City : pevek \n",
      "Processing Record 48 of Set 2 | City : vila franca do campo \n",
      "Processing Record 49 of Set 2 | City : broken hill \n",
      "Processing Record 0 of Set 3 | City : tiksi \n",
      "City not found. Skipping...\n",
      "Processing Record 1 of Set 3 | City : laguna \n",
      "Processing Record 2 of Set 3 | City : arraial do cabo \n",
      "Processing Record 3 of Set 3 | City : ponta do sol \n",
      "Processing Record 4 of Set 3 | City : mayo \n",
      "Processing Record 5 of Set 3 | City : bluff \n",
      "Processing Record 6 of Set 3 | City : caruray \n",
      "Processing Record 7 of Set 3 | City : praia da vitoria \n",
      "Processing Record 8 of Set 3 | City : ujjain \n",
      "Processing Record 9 of Set 3 | City : luwingu \n",
      "Processing Record 10 of Set 3 | City : qingyuan \n",
      "Processing Record 11 of Set 3 | City : berlevag \n",
      "Processing Record 12 of Set 3 | City : gubkinskiy \n",
      "Processing Record 13 of Set 3 | City : namibe \n",
      "Processing Record 14 of Set 3 | City : poso \n",
      "Processing Record 15 of Set 3 | City : rio grande \n",
      "Processing Record 16 of Set 3 | City : loikaw \n",
      "City not found. Skipping...\n",
      "Processing Record 17 of Set 3 | City : ostrovnoy \n",
      "Processing Record 18 of Set 3 | City : basco \n",
      "Processing Record 19 of Set 3 | City : pangnirtung \n",
      "Processing Record 20 of Set 3 | City : churapcha \n",
      "Processing Record 21 of Set 3 | City : longyearbyen \n",
      "Processing Record 22 of Set 3 | City : stephenville \n",
      "Processing Record 23 of Set 3 | City : puerto ayora \n",
      "Processing Record 24 of Set 3 | City : hofn \n",
      "City not found. Skipping...\n",
      "Processing Record 25 of Set 3 | City : butaritari \n",
      "Processing Record 26 of Set 3 | City : tual \n",
      "Processing Record 27 of Set 3 | City : banda aceh \n",
      "Processing Record 28 of Set 3 | City : kodiak \n",
      "Processing Record 29 of Set 3 | City : clyde river \n",
      "Processing Record 30 of Set 3 | City : zdvinsk \n",
      "Processing Record 31 of Set 3 | City : kapit \n",
      "Processing Record 32 of Set 3 | City : champerico \n",
      "City not found. Skipping...\n",
      "Processing Record 33 of Set 3 | City : bereda \n",
      "Processing Record 34 of Set 3 | City : barrow \n",
      "Processing Record 35 of Set 3 | City : dunedin \n",
      "City not found. Skipping...\n",
      "Processing Record 36 of Set 3 | City : vagur \n",
      "Processing Record 37 of Set 3 | City : hasaki \n",
      "Processing Record 38 of Set 3 | City : redmond \n",
      "Processing Record 39 of Set 3 | City : thompson \n",
      "Processing Record 40 of Set 3 | City : gornyy \n",
      "Processing Record 41 of Set 3 | City : torbay \n",
      "City not found. Skipping...\n",
      "Processing Record 42 of Set 3 | City : erzin \n",
      "Processing Record 43 of Set 3 | City : buncrana \n",
      "Processing Record 44 of Set 3 | City : lebu \n",
      "Processing Record 45 of Set 3 | City : tessalit \n",
      "Processing Record 46 of Set 3 | City : khandbari \n",
      "Processing Record 47 of Set 3 | City : victoria \n",
      "Processing Record 48 of Set 3 | City : zhigansk \n",
      "Processing Record 49 of Set 3 | City : talnakh \n",
      "Processing Record 0 of Set 4 | City : erzincan \n",
      "Processing Record 1 of Set 4 | City : la tuque \n",
      "Processing Record 2 of Set 4 | City : kizema \n",
      "Processing Record 3 of Set 4 | City : batagay-alyta \n",
      "Processing Record 4 of Set 4 | City : provideniya \n",
      "Processing Record 5 of Set 4 | City : chimore \n",
      "Processing Record 6 of Set 4 | City : ribeira grande \n",
      "Processing Record 7 of Set 4 | City : khandyga \n",
      "Processing Record 8 of Set 4 | City : anori \n",
      "Processing Record 9 of Set 4 | City : bulungu \n"
     ]
    },
    {
     "name": "stdout",
     "output_type": "stream",
     "text": [
      "Processing Record 10 of Set 4 | City : alyangula \n",
      "Processing Record 11 of Set 4 | City : wenling \n",
      "Processing Record 12 of Set 4 | City : yerbogachen \n",
      "Processing Record 13 of Set 4 | City : new norfolk \n",
      "City not found. Skipping...\n",
      "Processing Record 14 of Set 4 | City : norman wells \n",
      "Processing Record 15 of Set 4 | City : cherskiy \n",
      "Processing Record 16 of Set 4 | City : sao geraldo do araguaia \n",
      "Processing Record 17 of Set 4 | City : constitucion \n",
      "Processing Record 18 of Set 4 | City : derzhavinsk \n",
      "Processing Record 19 of Set 4 | City : havoysund \n",
      "Processing Record 20 of Set 4 | City : petit goave \n",
      "Processing Record 21 of Set 4 | City : ivanovo \n",
      "Processing Record 22 of Set 4 | City : rurrenabaque \n",
      "Processing Record 23 of Set 4 | City : naryan-mar \n",
      "Processing Record 24 of Set 4 | City : karasburg \n",
      "Processing Record 25 of Set 4 | City : acajutla \n",
      "Processing Record 26 of Set 4 | City : saint-philippe \n",
      "Processing Record 27 of Set 4 | City : guasdualito \n",
      "Processing Record 28 of Set 4 | City : apricena \n",
      "Processing Record 29 of Set 4 | City : san juan \n",
      "Processing Record 30 of Set 4 | City : bud \n",
      "Processing Record 31 of Set 4 | City : cayenne \n",
      "Processing Record 32 of Set 4 | City : tsumeb \n",
      "City not found. Skipping...\n",
      "Processing Record 33 of Set 4 | City : ponta delgada \n",
      "Processing Record 34 of Set 4 | City : santa cruz \n",
      "City not found. Skipping...\n",
      "Processing Record 35 of Set 4 | City : sampit \n",
      "Processing Record 36 of Set 4 | City : borba \n",
      "Processing Record 37 of Set 4 | City : ruidoso \n",
      "Processing Record 38 of Set 4 | City : kavieng \n",
      "Processing Record 39 of Set 4 | City : adre \n",
      "Processing Record 40 of Set 4 | City : manokwari \n",
      "Processing Record 41 of Set 4 | City : port elizabeth \n",
      "City not found. Skipping...\n",
      "Processing Record 42 of Set 4 | City : khadyzhensk \n",
      "Processing Record 43 of Set 4 | City : muhos \n",
      "Processing Record 44 of Set 4 | City : guerrero negro \n",
      "Processing Record 45 of Set 4 | City : inhambane \n",
      "Processing Record 46 of Set 4 | City : namtsy \n",
      "Processing Record 47 of Set 4 | City : bredasdorp \n",
      "Processing Record 48 of Set 4 | City : vostok \n",
      "Processing Record 49 of Set 4 | City : sao gabriel da cachoeira \n",
      "Processing Record 0 of Set 5 | City : merrill \n",
      "Processing Record 1 of Set 5 | City : vysokaya gora \n",
      "City not found. Skipping...\n",
      "Processing Record 2 of Set 5 | City : saldanha \n",
      "Processing Record 3 of Set 5 | City : santa rosa \n",
      "Processing Record 4 of Set 5 | City : la crosse \n",
      "Processing Record 5 of Set 5 | City : hamilton \n",
      "Processing Record 6 of Set 5 | City : mar del plata \n",
      "Processing Record 7 of Set 5 | City : henties bay \n",
      "Processing Record 8 of Set 5 | City : kenora \n",
      "Processing Record 9 of Set 5 | City : ajaccio \n",
      "Processing Record 10 of Set 5 | City : nuuk \n",
      "Processing Record 11 of Set 5 | City : xinyang \n",
      "Processing Record 12 of Set 5 | City : puerto suarez \n",
      "Processing Record 13 of Set 5 | City : port alfred \n",
      "Processing Record 14 of Set 5 | City : grindavik \n",
      "Processing Record 15 of Set 5 | City : hajnowka \n",
      "Processing Record 16 of Set 5 | City : boguchany \n",
      "Processing Record 17 of Set 5 | City : yulara \n",
      "Processing Record 18 of Set 5 | City : kasempa \n",
      "Processing Record 19 of Set 5 | City : iralaya \n",
      "Processing Record 20 of Set 5 | City : leshan \n",
      "City not found. Skipping...\n",
      "Processing Record 21 of Set 5 | City : bozeman \n",
      "Processing Record 22 of Set 5 | City : ferkessedougou \n",
      "Processing Record 23 of Set 5 | City : bolgatanga \n",
      "Processing Record 24 of Set 5 | City : ulladulla \n",
      "Processing Record 25 of Set 5 | City : tuatapere \n",
      "City not found. Skipping...\n",
      "Processing Record 26 of Set 5 | City : oranjemund \n",
      "City not found. Skipping...\n",
      "Processing Record 27 of Set 5 | City : nemuro \n",
      "Processing Record 28 of Set 5 | City : great falls \n",
      "Processing Record 29 of Set 5 | City : meadow lake \n",
      "Processing Record 30 of Set 5 | City : novopavlovka \n",
      "Processing Record 31 of Set 5 | City : launceston \n",
      "City not found. Skipping...\n",
      "City not found. Skipping...\n",
      "Processing Record 32 of Set 5 | City : avera \n",
      "Processing Record 33 of Set 5 | City : narkanda \n",
      "Processing Record 34 of Set 5 | City : quelimane \n",
      "Processing Record 35 of Set 5 | City : marawi \n",
      "Processing Record 36 of Set 5 | City : muros \n",
      "Processing Record 37 of Set 5 | City : novikovo \n",
      "Processing Record 38 of Set 5 | City : port keats \n",
      "Processing Record 39 of Set 5 | City : hilo \n",
      "Processing Record 40 of Set 5 | City : hargeysa \n",
      "Processing Record 41 of Set 5 | City : susehri \n",
      "Processing Record 42 of Set 5 | City : araouane \n",
      "Processing Record 43 of Set 5 | City : brenes \n",
      "Processing Record 44 of Set 5 | City : portland \n",
      "Processing Record 45 of Set 5 | City : bridlington \n",
      "Processing Record 46 of Set 5 | City : flinders \n",
      "Processing Record 47 of Set 5 | City : san mateo del mar \n",
      "Processing Record 48 of Set 5 | City : itapipoca \n",
      "Processing Record 49 of Set 5 | City : matara \n",
      "Processing Record 0 of Set 6 | City : xixiang \n",
      "Processing Record 1 of Set 6 | City : redcliffe \n",
      "Processing Record 2 of Set 6 | City : mecca \n",
      "Processing Record 3 of Set 6 | City : shimoda \n",
      "Processing Record 4 of Set 6 | City : namatanai \n",
      "Processing Record 5 of Set 6 | City : erenhot \n",
      "Processing Record 6 of Set 6 | City : havre-saint-pierre \n",
      "Processing Record 7 of Set 6 | City : belyy yar \n",
      "City not found. Skipping...\n",
      "Processing Record 8 of Set 6 | City : malanville \n",
      "Processing Record 9 of Set 6 | City : chicama \n",
      "Processing Record 10 of Set 6 | City : la primavera \n",
      "Processing Record 11 of Set 6 | City : sakakah \n",
      "Processing Record 12 of Set 6 | City : sobolevo \n",
      "Processing Record 13 of Set 6 | City : naze \n",
      "Processing Record 14 of Set 6 | City : saurimo \n",
      "Processing Record 15 of Set 6 | City : sfantu gheorghe \n",
      "Processing Record 16 of Set 6 | City : biak \n",
      "Processing Record 17 of Set 6 | City : mount vernon \n",
      "Processing Record 18 of Set 6 | City : kathmandu \n",
      "Processing Record 19 of Set 6 | City : nome \n",
      "Processing Record 20 of Set 6 | City : kutahya \n",
      "Processing Record 21 of Set 6 | City : gisborne \n",
      "Processing Record 22 of Set 6 | City : buin \n",
      "Processing Record 23 of Set 6 | City : tazovskiy \n",
      "City not found. Skipping...\n",
      "Processing Record 24 of Set 6 | City : gat \n",
      "Processing Record 25 of Set 6 | City : saint-leu \n",
      "Processing Record 26 of Set 6 | City : beringovskiy \n",
      "Processing Record 27 of Set 6 | City : valparaiso \n",
      "Processing Record 28 of Set 6 | City : ust-ilimsk \n",
      "Processing Record 29 of Set 6 | City : touros \n",
      "Processing Record 30 of Set 6 | City : chimbote \n",
      "Processing Record 31 of Set 6 | City : esperance \n",
      "Processing Record 32 of Set 6 | City : tandalti \n",
      "City not found. Skipping...\n",
      "Processing Record 33 of Set 6 | City : port-cartier \n",
      "Processing Record 34 of Set 6 | City : muroto \n",
      "Processing Record 35 of Set 6 | City : uuemoisa \n",
      "Processing Record 36 of Set 6 | City : nara \n",
      "City not found. Skipping...\n",
      "Processing Record 37 of Set 6 | City : lypova dolyna \n",
      "Processing Record 38 of Set 6 | City : pisco \n",
      "Processing Record 39 of Set 6 | City : sao felix do xingu \n",
      "Processing Record 40 of Set 6 | City : caravelas \n",
      "Processing Record 41 of Set 6 | City : bubaque \n",
      "Processing Record 42 of Set 6 | City : asau \n",
      "Processing Record 43 of Set 6 | City : tucurui \n",
      "Processing Record 44 of Set 6 | City : klyuchi \n",
      "Processing Record 45 of Set 6 | City : kommunar \n",
      "Processing Record 46 of Set 6 | City : kalmunai \n",
      "Processing Record 47 of Set 6 | City : mumford \n",
      "Processing Record 48 of Set 6 | City : yining \n",
      "Processing Record 49 of Set 6 | City : paramirim \n",
      "Processing Record 0 of Set 7 | City : tobermory \n",
      "Processing Record 1 of Set 7 | City : san carlos de bariloche \n",
      "Processing Record 2 of Set 7 | City : samarai \n",
      "Processing Record 3 of Set 7 | City : abnub \n",
      "Processing Record 4 of Set 7 | City : alofi \n",
      "Processing Record 5 of Set 7 | City : dali \n",
      "Processing Record 6 of Set 7 | City : cururupu \n",
      "City not found. Skipping...\n",
      "Processing Record 7 of Set 7 | City : kanker \n",
      "City not found. Skipping...\n",
      "Processing Record 8 of Set 7 | City : merauke \n",
      "Processing Record 9 of Set 7 | City : kasaragod \n",
      "Processing Record 10 of Set 7 | City : yangambi \n",
      "Processing Record 11 of Set 7 | City : jacareacanga \n",
      "Processing Record 12 of Set 7 | City : mandalgovi \n",
      "Processing Record 13 of Set 7 | City : kashi \n",
      "City not found. Skipping...\n",
      "Processing Record 14 of Set 7 | City : jeffersontown \n",
      "Processing Record 15 of Set 7 | City : fortuna \n"
     ]
    },
    {
     "name": "stdout",
     "output_type": "stream",
     "text": [
      "Processing Record 16 of Set 7 | City : georgetown \n",
      "Processing Record 17 of Set 7 | City : tocopilla \n",
      "Processing Record 18 of Set 7 | City : ladario \n",
      "Processing Record 19 of Set 7 | City : hambantota \n",
      "Processing Record 20 of Set 7 | City : san pedro \n",
      "Processing Record 21 of Set 7 | City : severobaykalsk \n",
      "Processing Record 22 of Set 7 | City : miri \n",
      "Processing Record 23 of Set 7 | City : nawada \n",
      "Processing Record 24 of Set 7 | City : shimabara \n",
      "Processing Record 25 of Set 7 | City : tukrah \n",
      "City not found. Skipping...\n",
      "Processing Record 26 of Set 7 | City : sisimiut \n",
      "Processing Record 27 of Set 7 | City : bucerias \n",
      "Processing Record 28 of Set 7 | City : lompoc \n",
      "City not found. Skipping...\n",
      "Processing Record 29 of Set 7 | City : fairbanks \n",
      "Processing Record 30 of Set 7 | City : jalu \n",
      "City not found. Skipping...\n",
      "Processing Record 31 of Set 7 | City : huntingdon \n",
      "Processing Record 32 of Set 7 | City : nantucket \n",
      "Processing Record 33 of Set 7 | City : luderitz \n",
      "Processing Record 34 of Set 7 | City : navlya \n",
      "Processing Record 35 of Set 7 | City : mangrol \n",
      "Processing Record 36 of Set 7 | City : taoudenni \n",
      "Processing Record 37 of Set 7 | City : qianan \n",
      "Processing Record 38 of Set 7 | City : isangel \n",
      "Processing Record 39 of Set 7 | City : achacachi \n",
      "Processing Record 40 of Set 7 | City : stillwater \n",
      "Processing Record 41 of Set 7 | City : alekseyevsk \n",
      "Processing Record 42 of Set 7 | City : antofagasta \n",
      "Processing Record 43 of Set 7 | City : kamenka \n",
      "Processing Record 44 of Set 7 | City : augusto correa \n",
      "Processing Record 45 of Set 7 | City : maneadero \n",
      "Processing Record 46 of Set 7 | City : haldibari \n",
      "Processing Record 47 of Set 7 | City : sur \n",
      "Processing Record 48 of Set 7 | City : dingle \n",
      "Processing Record 49 of Set 7 | City : reims \n",
      "Processing Record 0 of Set 8 | City : malindi \n",
      "Processing Record 1 of Set 8 | City : san matias \n",
      "Processing Record 2 of Set 8 | City : goksun \n",
      "Processing Record 3 of Set 8 | City : nanortalik \n",
      "Processing Record 4 of Set 8 | City : lorengau \n",
      "Processing Record 5 of Set 8 | City : mount isa \n",
      "Processing Record 6 of Set 8 | City : roald \n",
      "City not found. Skipping...\n",
      "Processing Record 7 of Set 8 | City : san quintin \n",
      "Processing Record 8 of Set 8 | City : matagami \n",
      "Processing Record 9 of Set 8 | City : lumeje \n",
      "Processing Record 10 of Set 8 | City : san cristobal \n",
      "Processing Record 11 of Set 8 | City : dzilam gonzalez \n",
      "Processing Record 12 of Set 8 | City : kayerkan \n",
      "Processing Record 13 of Set 8 | City : cabo san lucas \n",
      "Processing Record 14 of Set 8 | City : okhotsk \n",
      "Processing Record 15 of Set 8 | City : methoni \n",
      "Processing Record 16 of Set 8 | City : xushan \n",
      "Processing Record 17 of Set 8 | City : oum hadjer \n",
      "Processing Record 18 of Set 8 | City : port blair \n",
      "Processing Record 19 of Set 8 | City : grafenhainichen \n",
      "Processing Record 20 of Set 8 | City : strangnas \n",
      "Processing Record 21 of Set 8 | City : marsa matruh \n",
      "Processing Record 22 of Set 8 | City : riohacha \n",
      "Processing Record 23 of Set 8 | City : belmonte \n",
      "Processing Record 24 of Set 8 | City : sitka \n",
      "Processing Record 25 of Set 8 | City : svetlaya \n",
      "Processing Record 26 of Set 8 | City : sao filipe \n",
      "City not found. Skipping...\n",
      "Processing Record 27 of Set 8 | City : pontian kecil \n",
      "City not found. Skipping...\n",
      "Processing Record 28 of Set 8 | City : half moon bay \n",
      "Processing Record 29 of Set 8 | City : vidim \n",
      "Processing Record 30 of Set 8 | City : uarini \n",
      "Processing Record 31 of Set 8 | City : ardakan \n",
      "City not found. Skipping...\n",
      "Processing Record 32 of Set 8 | City : horta \n",
      "Processing Record 33 of Set 8 | City : tigbao \n",
      "Processing Record 34 of Set 8 | City : paita \n",
      "Processing Record 35 of Set 8 | City : trincomalee \n",
      "Processing Record 36 of Set 8 | City : ambilobe \n",
      "Processing Record 37 of Set 8 | City : christchurch \n",
      "Processing Record 38 of Set 8 | City : mackay \n",
      "Processing Record 39 of Set 8 | City : dezful \n",
      "Processing Record 40 of Set 8 | City : benghazi \n",
      "Processing Record 41 of Set 8 | City : anqiu \n",
      "Processing Record 42 of Set 8 | City : sambava \n",
      "Processing Record 43 of Set 8 | City : kochi \n",
      "Processing Record 44 of Set 8 | City : shelburne \n",
      "Processing Record 45 of Set 8 | City : batagay \n",
      "Processing Record 46 of Set 8 | City : palmer \n",
      "Processing Record 47 of Set 8 | City : faanui \n",
      "Processing Record 48 of Set 8 | City : simav \n",
      "City not found. Skipping...\n",
      "Processing Record 49 of Set 8 | City : vardo \n",
      "Processing Record 0 of Set 9 | City : cartagena del chaira \n",
      "Processing Record 1 of Set 9 | City : krasnoselkup \n",
      "Processing Record 2 of Set 9 | City : carballo \n",
      "Processing Record 3 of Set 9 | City : forrest city \n",
      "Processing Record 4 of Set 9 | City : khani \n",
      "Processing Record 5 of Set 9 | City : kholm \n",
      "Processing Record 6 of Set 9 | City : geraldton \n",
      "Processing Record 7 of Set 9 | City : airai \n",
      "Processing Record 8 of Set 9 | City : klaksvik \n",
      "Processing Record 9 of Set 9 | City : moron \n",
      "Processing Record 10 of Set 9 | City : kasongo-lunda \n",
      "City not found. Skipping...\n",
      "Processing Record 11 of Set 9 | City : ketchikan \n",
      "Processing Record 12 of Set 9 | City : byron bay \n",
      "Processing Record 13 of Set 9 | City : impfondo \n",
      "City not found. Skipping...\n",
      "Processing Record 14 of Set 9 | City : oistins \n",
      "Processing Record 15 of Set 9 | City : nuevo progreso \n",
      "Processing Record 16 of Set 9 | City : katangli \n",
      "Processing Record 17 of Set 9 | City : petersburg \n",
      "City not found. Skipping...\n",
      "Processing Record 18 of Set 9 | City : cidreira \n",
      "Processing Record 19 of Set 9 | City : xingyi \n",
      "Processing Record 20 of Set 9 | City : zelenoborsk \n",
      "City not found. Skipping...\n",
      "Processing Record 21 of Set 9 | City : worthington \n",
      "City not found. Skipping...\n",
      "City not found. Skipping...\n",
      "Processing Record 22 of Set 9 | City : aksu \n",
      "Processing Record 23 of Set 9 | City : zhumadian \n",
      "Processing Record 24 of Set 9 | City : linhares \n",
      "Processing Record 25 of Set 9 | City : marystown \n",
      "Processing Record 26 of Set 9 | City : port lincoln \n",
      "Processing Record 27 of Set 9 | City : slave lake \n",
      "Processing Record 28 of Set 9 | City : alexandria \n",
      "Processing Record 29 of Set 9 | City : hailar \n",
      "Processing Record 30 of Set 9 | City : tigil \n",
      "Processing Record 31 of Set 9 | City : songjianghe \n",
      "Processing Record 32 of Set 9 | City : la sarre \n",
      "Processing Record 33 of Set 9 | City : kahului \n",
      "Processing Record 34 of Set 9 | City : rokytne \n",
      "Processing Record 35 of Set 9 | City : northam \n",
      "Processing Record 36 of Set 9 | City : weihe \n",
      "Processing Record 37 of Set 9 | City : helena \n",
      "Processing Record 38 of Set 9 | City : basoko \n",
      "Processing Record 39 of Set 9 | City : ipilan \n",
      "Processing Record 40 of Set 9 | City : taltal \n",
      "Processing Record 41 of Set 9 | City : kudahuvadhoo \n",
      "City not found. Skipping...\n",
      "Processing Record 42 of Set 9 | City : san bartolo \n",
      "Processing Record 43 of Set 9 | City : senador guiomard \n",
      "Processing Record 44 of Set 9 | City : luanda \n",
      "Processing Record 45 of Set 9 | City : leningradskiy \n",
      "Processing Record 46 of Set 9 | City : kango \n",
      "Processing Record 47 of Set 9 | City : kadyy \n",
      "Processing Record 48 of Set 9 | City : chilliwack \n",
      "Processing Record 49 of Set 9 | City : rio gallegos \n",
      "Processing Record 0 of Set 10 | City : saumur \n",
      "Processing Record 1 of Set 10 | City : ngama \n",
      "Processing Record 2 of Set 10 | City : san juan de las huertas \n",
      "Processing Record 3 of Set 10 | City : port hawkesbury \n",
      "Processing Record 4 of Set 10 | City : naraina \n",
      "Processing Record 5 of Set 10 | City : shetpe \n",
      "Processing Record 6 of Set 10 | City : gotsu \n",
      "Processing Record 7 of Set 10 | City : rastolita \n",
      "Processing Record 8 of Set 10 | City : kampot \n",
      "Processing Record 9 of Set 10 | City : port macquarie \n",
      "Processing Record 10 of Set 10 | City : chunskiy \n",
      "Processing Record 11 of Set 10 | City : tezu \n",
      "Processing Record 12 of Set 10 | City : broome \n",
      "Processing Record 13 of Set 10 | City : seybaplaya \n",
      "Processing Record 14 of Set 10 | City : nioro \n",
      "City not found. Skipping...\n",
      "Processing Record 15 of Set 10 | City : amargosa \n",
      "Processing Record 16 of Set 10 | City : bilma \n",
      "Processing Record 17 of Set 10 | City : akdepe \n",
      "Processing Record 18 of Set 10 | City : shingu \n",
      "Processing Record 19 of Set 10 | City : sault sainte marie \n",
      "Processing Record 20 of Set 10 | City : vanimo \n",
      "Processing Record 21 of Set 10 | City : boke \n",
      "Processing Record 22 of Set 10 | City : odweyne \n",
      "Processing Record 23 of Set 10 | City : sinfra \n"
     ]
    },
    {
     "name": "stdout",
     "output_type": "stream",
     "text": [
      "Processing Record 24 of Set 10 | City : la ligua \n",
      "Processing Record 25 of Set 10 | City : maceio \n",
      "Processing Record 26 of Set 10 | City : sumbe \n",
      "Processing Record 27 of Set 10 | City : korla \n",
      "Processing Record 28 of Set 10 | City : sikeston \n",
      "Processing Record 29 of Set 10 | City : conway \n",
      "Processing Record 30 of Set 10 | City : bolotnoye \n",
      "Processing Record 31 of Set 10 | City : bandarbeyla \n",
      "Processing Record 32 of Set 10 | City : bilibino \n",
      "Processing Record 33 of Set 10 | City : pitman \n",
      "Processing Record 34 of Set 10 | City : mutoko \n",
      "Processing Record 35 of Set 10 | City : srednekolymsk \n",
      "Processing Record 36 of Set 10 | City : tarko-sale \n",
      "Processing Record 37 of Set 10 | City : kilindoni \n",
      "Processing Record 38 of Set 10 | City : shu \n",
      "Processing Record 39 of Set 10 | City : vestmanna \n",
      "Processing Record 40 of Set 10 | City : carutapera \n",
      "Processing Record 41 of Set 10 | City : alta floresta \n",
      "Processing Record 42 of Set 10 | City : kotra \n",
      "Processing Record 43 of Set 10 | City : tiznit \n",
      "Processing Record 44 of Set 10 | City : chinna salem \n",
      "Processing Record 45 of Set 10 | City : jizan \n",
      "Processing Record 46 of Set 10 | City : labuhan \n",
      "Processing Record 47 of Set 10 | City : saint anthony \n",
      "Processing Record 48 of Set 10 | City : kharovsk \n",
      "Processing Record 49 of Set 10 | City : atocha \n",
      "Processing Record 0 of Set 11 | City : vao \n",
      "Processing Record 1 of Set 11 | City : morehead \n",
      "Processing Record 2 of Set 11 | City : mattru \n",
      "Processing Record 3 of Set 11 | City : kulhudhuffushi \n",
      "Processing Record 4 of Set 11 | City : banamba \n",
      "Processing Record 5 of Set 11 | City : stornoway \n",
      "Processing Record 6 of Set 11 | City : sol-iletsk \n",
      "Processing Record 7 of Set 11 | City : krasnaya gorka \n",
      "Processing Record 8 of Set 11 | City : whitianga \n",
      "Processing Record 9 of Set 11 | City : sinnamary \n",
      "Processing Record 10 of Set 11 | City : inuvik \n",
      "Processing Record 11 of Set 11 | City : kuala terengganu \n",
      "Processing Record 12 of Set 11 | City : trelew \n",
      "Processing Record 13 of Set 11 | City : saint-denis \n",
      "Processing Record 14 of Set 11 | City : anchorage \n",
      "Processing Record 15 of Set 11 | City : antalaha \n",
      "Processing Record 16 of Set 11 | City : visnes \n",
      "Processing Record 17 of Set 11 | City : nipawin \n",
      "Processing Record 18 of Set 11 | City : rancho palos verdes \n",
      "Processing Record 19 of Set 11 | City : shangrao \n",
      "Processing Record 20 of Set 11 | City : fare \n",
      "Processing Record 21 of Set 11 | City : price \n",
      "Processing Record 22 of Set 11 | City : ruteng \n",
      "Processing Record 23 of Set 11 | City : vicente guerrero \n",
      "Processing Record 24 of Set 11 | City : ilulissat \n",
      "Processing Record 25 of Set 11 | City : quatre cocos \n",
      "Processing Record 26 of Set 11 | City : gladstone \n",
      "City not found. Skipping...\n",
      "Processing Record 27 of Set 11 | City : homer \n",
      "Processing Record 28 of Set 11 | City : synya \n",
      "Processing Record 29 of Set 11 | City : opuwo \n",
      "Processing Record 30 of Set 11 | City : ugoofaaru \n",
      "Processing Record 31 of Set 11 | City : conde \n",
      "Processing Record 32 of Set 11 | City : college \n",
      "Processing Record 33 of Set 11 | City : aripuana \n",
      "Processing Record 34 of Set 11 | City : hami \n",
      "Processing Record 35 of Set 11 | City : riyadh \n",
      "Processing Record 36 of Set 11 | City : dudinka \n",
      "Processing Record 37 of Set 11 | City : carauari \n",
      "Processing Record 38 of Set 11 | City : isla vista \n",
      "Processing Record 39 of Set 11 | City : barcelos \n",
      "Processing Record 40 of Set 11 | City : north augusta \n",
      "Processing Record 41 of Set 11 | City : parabel \n",
      "Processing Record 42 of Set 11 | City : mersing \n",
      "City not found. Skipping...\n",
      "Processing Record 43 of Set 11 | City : cabedelo \n",
      "City not found. Skipping...\n",
      "Processing Record 44 of Set 11 | City : vigrestad \n",
      "Processing Record 45 of Set 11 | City : ust-kuyga \n",
      "Processing Record 46 of Set 11 | City : palana \n",
      "Processing Record 47 of Set 11 | City : mikhaylovka \n",
      "Processing Record 48 of Set 11 | City : gimbi \n",
      "Processing Record 49 of Set 11 | City : sangar \n",
      "Processing Record 0 of Set 12 | City : faya \n",
      "Processing Record 1 of Set 12 | City : acarau \n",
      "Processing Record 2 of Set 12 | City : zhezkazgan \n",
      "Processing Record 3 of Set 12 | City : ercis \n",
      "Processing Record 4 of Set 12 | City : mahenge \n",
      "Processing Record 5 of Set 12 | City : port hardy \n",
      "Processing Record 6 of Set 12 | City : peruibe \n",
      "Processing Record 7 of Set 12 | City : sangmelima \n",
      "Processing Record 8 of Set 12 | City : lagoa \n",
      "Processing Record 9 of Set 12 | City : tautira \n",
      "Processing Record 10 of Set 12 | City : abonnema \n",
      "Processing Record 11 of Set 12 | City : lesozavodsk \n",
      "Processing Record 12 of Set 12 | City : taboga \n",
      "Processing Record 13 of Set 12 | City : esil \n",
      "Processing Record 14 of Set 12 | City : auki \n",
      "Processing Record 15 of Set 12 | City : vinh \n",
      "Processing Record 16 of Set 12 | City : suntar \n",
      "Processing Record 17 of Set 12 | City : healdsburg \n",
      "Processing Record 18 of Set 12 | City : bichena \n",
      "Processing Record 19 of Set 12 | City : ilhabela \n",
      "Processing Record 20 of Set 12 | City : limbang \n",
      "Processing Record 21 of Set 12 | City : bay roberts \n",
      "Processing Record 22 of Set 12 | City : manaure \n",
      "Processing Record 23 of Set 12 | City : rovinj \n",
      "Processing Record 24 of Set 12 | City : riviere-du-loup \n",
      "Processing Record 25 of Set 12 | City : buluang \n",
      "Processing Record 26 of Set 12 | City : santiago del estero \n",
      "City not found. Skipping...\n",
      "Processing Record 27 of Set 12 | City : lata \n",
      "Processing Record 28 of Set 12 | City : kenai \n",
      "Processing Record 29 of Set 12 | City : buraydah \n",
      "Processing Record 30 of Set 12 | City : sarny \n",
      "Processing Record 31 of Set 12 | City : tsogni \n",
      "------------------------\n",
      "Data Retrieval complete\n",
      "------------------------\n"
     ]
    }
   ],
   "source": [
    "url = \"http://api.openweathermap.org/data/2.5/weather?\"\n",
    "\n",
    "# Build query URL\n",
    "print('Beginning Data Retrieval')\n",
    "print('------------------------')\n",
    "\n",
    "lat = []\n",
    "lon = []\n",
    "cityname = []\n",
    "temp = []\n",
    "humid = []\n",
    "cloudiness = []\n",
    "windspeed = []\n",
    "country = []\n",
    "date = []\n",
    "temp_c = 0\n",
    "setNum = 0\n",
    "newSet = 1\n",
    "\n",
    "for x in range(len(cities)):\n",
    "    city = cities[x]\n",
    "    query_url = url + \"appid=\" + weather_api_key + \"&q=\" + city\n",
    "    \n",
    "    if setNum == 50:\n",
    "        newSet = newSet + 1\n",
    "        setNum = 0\n",
    "    \n",
    "\n",
    "    # Get weather data\n",
    "    try:\n",
    "        weather_response = requests.get(query_url)\n",
    "        weather_json = weather_response.json() \n",
    "        \n",
    "        lat.append(weather_json['coord']['lat'])\n",
    "        lon.append(weather_json['coord']['lon'])\n",
    "        cityname.append(weather_json['name'])\n",
    "        temp_c = (((weather_json['main']['temp_max']) - 273.15)* 1.8000)+ 32.00\n",
    "        # The api also provides a parameter for temerature in C and F.\n",
    "        temp.append(temp_c)\n",
    "        humid.append(weather_json['main']['humidity'])\n",
    "        cloudiness.append(weather_json['clouds']['all'])\n",
    "        windspeed.append(weather_json['wind']['speed'])\n",
    "        country.append(weather_json['sys']['country'])\n",
    "        date.append(weather_json['dt'])\n",
    "        \n",
    "        print(f\"Processing Record {setNum} of Set {newSet} | City : {city} \")\n",
    "        setNum = setNum + 1\n",
    "\n",
    "    except:\n",
    "        print(\"City not found. Skipping...\")\n",
    "\n",
    "\n",
    "print('------------------------')    \n",
    "print('Data Retrieval complete')\n",
    "print('------------------------')    \n",
    "        "
   ]
  },
  {
   "cell_type": "markdown",
   "metadata": {},
   "source": [
    "### Convert Raw Data to DataFrame\n",
    "* Export the city data into a .csv.\n",
    "* Display the DataFrame"
   ]
  },
  {
   "cell_type": "code",
   "execution_count": 12,
   "metadata": {},
   "outputs": [],
   "source": [
    "weather_dict = {\n",
    "    \"City\": cityname,\n",
    "    \"Lat\": lat,\n",
    "    \"Lng\": lon,\n",
    "    \"Max Temp\": temp,\n",
    "    \"Humidity\": humid,\n",
    "    \"Cloudiness\": cloudiness,\n",
    "    \"Wind Speed\": windspeed,\n",
    "    \"Country\": country,\n",
    "    \"Date\": date\n",
    "}\n",
    "weather_data = pd.DataFrame(weather_dict)\n",
    "\n",
    "# Export the city data into a .csv.\n",
    "weather_data.to_csv(\"../output_data/cities.csv\")\n"
   ]
  },
  {
   "cell_type": "code",
   "execution_count": 78,
   "metadata": {},
   "outputs": [
    {
     "data": {
      "text/plain": [
       "582"
      ]
     },
     "execution_count": 78,
     "metadata": {},
     "output_type": "execute_result"
    }
   ],
   "source": [
    "len(weather_data[\"City\"].unique())\n"
   ]
  },
  {
   "cell_type": "code",
   "execution_count": 79,
   "metadata": {},
   "outputs": [
    {
     "data": {
      "text/html": [
       "<div>\n",
       "<style scoped>\n",
       "    .dataframe tbody tr th:only-of-type {\n",
       "        vertical-align: middle;\n",
       "    }\n",
       "\n",
       "    .dataframe tbody tr th {\n",
       "        vertical-align: top;\n",
       "    }\n",
       "\n",
       "    .dataframe thead th {\n",
       "        text-align: right;\n",
       "    }\n",
       "</style>\n",
       "<table border=\"1\" class=\"dataframe\">\n",
       "  <thead>\n",
       "    <tr style=\"text-align: right;\">\n",
       "      <th></th>\n",
       "      <th>City</th>\n",
       "      <th>Lat</th>\n",
       "      <th>Lng</th>\n",
       "      <th>Max Temp</th>\n",
       "      <th>Humidity</th>\n",
       "      <th>Cloudiness</th>\n",
       "      <th>Wind Speed</th>\n",
       "      <th>Country</th>\n",
       "      <th>Date</th>\n",
       "    </tr>\n",
       "  </thead>\n",
       "  <tbody>\n",
       "    <tr>\n",
       "      <th>0</th>\n",
       "      <td>Talcahuano</td>\n",
       "      <td>-36.72</td>\n",
       "      <td>-73.12</td>\n",
       "      <td>48.200</td>\n",
       "      <td>87</td>\n",
       "      <td>0</td>\n",
       "      <td>2.10</td>\n",
       "      <td>CL</td>\n",
       "      <td>1597627040</td>\n",
       "    </tr>\n",
       "    <tr>\n",
       "      <th>1</th>\n",
       "      <td>Bathsheba</td>\n",
       "      <td>13.22</td>\n",
       "      <td>-59.52</td>\n",
       "      <td>80.600</td>\n",
       "      <td>88</td>\n",
       "      <td>75</td>\n",
       "      <td>9.30</td>\n",
       "      <td>BB</td>\n",
       "      <td>1597627040</td>\n",
       "    </tr>\n",
       "    <tr>\n",
       "      <th>2</th>\n",
       "      <td>Kavaratti</td>\n",
       "      <td>10.57</td>\n",
       "      <td>72.64</td>\n",
       "      <td>81.734</td>\n",
       "      <td>80</td>\n",
       "      <td>96</td>\n",
       "      <td>6.67</td>\n",
       "      <td>IN</td>\n",
       "      <td>1597627041</td>\n",
       "    </tr>\n",
       "    <tr>\n",
       "      <th>3</th>\n",
       "      <td>La Plata</td>\n",
       "      <td>-34.92</td>\n",
       "      <td>-57.95</td>\n",
       "      <td>62.006</td>\n",
       "      <td>30</td>\n",
       "      <td>0</td>\n",
       "      <td>1.79</td>\n",
       "      <td>AR</td>\n",
       "      <td>1597626772</td>\n",
       "    </tr>\n",
       "    <tr>\n",
       "      <th>4</th>\n",
       "      <td>Richards Bay</td>\n",
       "      <td>-28.78</td>\n",
       "      <td>32.04</td>\n",
       "      <td>59.612</td>\n",
       "      <td>61</td>\n",
       "      <td>10</td>\n",
       "      <td>3.36</td>\n",
       "      <td>ZA</td>\n",
       "      <td>1597627041</td>\n",
       "    </tr>\n",
       "    <tr>\n",
       "      <th>...</th>\n",
       "      <td>...</td>\n",
       "      <td>...</td>\n",
       "      <td>...</td>\n",
       "      <td>...</td>\n",
       "      <td>...</td>\n",
       "      <td>...</td>\n",
       "      <td>...</td>\n",
       "      <td>...</td>\n",
       "      <td>...</td>\n",
       "    </tr>\n",
       "    <tr>\n",
       "      <th>577</th>\n",
       "      <td>Lata</td>\n",
       "      <td>40.16</td>\n",
       "      <td>-8.33</td>\n",
       "      <td>64.004</td>\n",
       "      <td>94</td>\n",
       "      <td>93</td>\n",
       "      <td>1.00</td>\n",
       "      <td>PT</td>\n",
       "      <td>1597627219</td>\n",
       "    </tr>\n",
       "    <tr>\n",
       "      <th>578</th>\n",
       "      <td>Kenai</td>\n",
       "      <td>60.55</td>\n",
       "      <td>-151.26</td>\n",
       "      <td>77.000</td>\n",
       "      <td>29</td>\n",
       "      <td>1</td>\n",
       "      <td>4.10</td>\n",
       "      <td>US</td>\n",
       "      <td>1597627220</td>\n",
       "    </tr>\n",
       "    <tr>\n",
       "      <th>579</th>\n",
       "      <td>Buraidah</td>\n",
       "      <td>26.33</td>\n",
       "      <td>43.98</td>\n",
       "      <td>84.200</td>\n",
       "      <td>28</td>\n",
       "      <td>99</td>\n",
       "      <td>2.60</td>\n",
       "      <td>SA</td>\n",
       "      <td>1597627220</td>\n",
       "    </tr>\n",
       "    <tr>\n",
       "      <th>580</th>\n",
       "      <td>Sarny</td>\n",
       "      <td>51.34</td>\n",
       "      <td>26.60</td>\n",
       "      <td>59.000</td>\n",
       "      <td>68</td>\n",
       "      <td>0</td>\n",
       "      <td>1.44</td>\n",
       "      <td>UA</td>\n",
       "      <td>1597627220</td>\n",
       "    </tr>\n",
       "    <tr>\n",
       "      <th>581</th>\n",
       "      <td>Tsogni</td>\n",
       "      <td>-2.79</td>\n",
       "      <td>10.10</td>\n",
       "      <td>72.356</td>\n",
       "      <td>89</td>\n",
       "      <td>100</td>\n",
       "      <td>2.77</td>\n",
       "      <td>GA</td>\n",
       "      <td>1597627221</td>\n",
       "    </tr>\n",
       "  </tbody>\n",
       "</table>\n",
       "<p>582 rows × 9 columns</p>\n",
       "</div>"
      ],
      "text/plain": [
       "             City    Lat     Lng  Max Temp  Humidity  Cloudiness  Wind Speed  \\\n",
       "0      Talcahuano -36.72  -73.12    48.200        87           0        2.10   \n",
       "1       Bathsheba  13.22  -59.52    80.600        88          75        9.30   \n",
       "2       Kavaratti  10.57   72.64    81.734        80          96        6.67   \n",
       "3        La Plata -34.92  -57.95    62.006        30           0        1.79   \n",
       "4    Richards Bay -28.78   32.04    59.612        61          10        3.36   \n",
       "..            ...    ...     ...       ...       ...         ...         ...   \n",
       "577          Lata  40.16   -8.33    64.004        94          93        1.00   \n",
       "578         Kenai  60.55 -151.26    77.000        29           1        4.10   \n",
       "579      Buraidah  26.33   43.98    84.200        28          99        2.60   \n",
       "580         Sarny  51.34   26.60    59.000        68           0        1.44   \n",
       "581        Tsogni  -2.79   10.10    72.356        89         100        2.77   \n",
       "\n",
       "    Country        Date  \n",
       "0        CL  1597627040  \n",
       "1        BB  1597627040  \n",
       "2        IN  1597627041  \n",
       "3        AR  1597626772  \n",
       "4        ZA  1597627041  \n",
       "..      ...         ...  \n",
       "577      PT  1597627219  \n",
       "578      US  1597627220  \n",
       "579      SA  1597627220  \n",
       "580      UA  1597627220  \n",
       "581      GA  1597627221  \n",
       "\n",
       "[582 rows x 9 columns]"
      ]
     },
     "execution_count": 79,
     "metadata": {},
     "output_type": "execute_result"
    }
   ],
   "source": [
    "# Display the DataFrame\n",
    "weather_data"
   ]
  },
  {
   "cell_type": "markdown",
   "metadata": {},
   "source": [
    "## Inspect the data and remove the cities where the humidity > 100%.\n",
    "----\n",
    "Skip this step if there are no cities that have humidity > 100%. "
   ]
  },
  {
   "cell_type": "code",
   "execution_count": 14,
   "metadata": {},
   "outputs": [
    {
     "data": {
      "text/html": [
       "<div>\n",
       "<style scoped>\n",
       "    .dataframe tbody tr th:only-of-type {\n",
       "        vertical-align: middle;\n",
       "    }\n",
       "\n",
       "    .dataframe tbody tr th {\n",
       "        vertical-align: top;\n",
       "    }\n",
       "\n",
       "    .dataframe thead th {\n",
       "        text-align: right;\n",
       "    }\n",
       "</style>\n",
       "<table border=\"1\" class=\"dataframe\">\n",
       "  <thead>\n",
       "    <tr style=\"text-align: right;\">\n",
       "      <th></th>\n",
       "      <th>Lat</th>\n",
       "      <th>Lng</th>\n",
       "      <th>Max Temp</th>\n",
       "      <th>Humidity</th>\n",
       "      <th>Cloudiness</th>\n",
       "      <th>Wind Speed</th>\n",
       "      <th>Date</th>\n",
       "    </tr>\n",
       "  </thead>\n",
       "  <tbody>\n",
       "    <tr>\n",
       "      <th>count</th>\n",
       "      <td>582.000000</td>\n",
       "      <td>582.000000</td>\n",
       "      <td>582.000000</td>\n",
       "      <td>582.000000</td>\n",
       "      <td>582.000000</td>\n",
       "      <td>582.000000</td>\n",
       "      <td>5.820000e+02</td>\n",
       "    </tr>\n",
       "    <tr>\n",
       "      <th>mean</th>\n",
       "      <td>21.474175</td>\n",
       "      <td>17.026959</td>\n",
       "      <td>67.880711</td>\n",
       "      <td>71.750859</td>\n",
       "      <td>45.651203</td>\n",
       "      <td>3.249536</td>\n",
       "      <td>1.597627e+09</td>\n",
       "    </tr>\n",
       "    <tr>\n",
       "      <th>std</th>\n",
       "      <td>33.013132</td>\n",
       "      <td>89.696055</td>\n",
       "      <td>14.022408</td>\n",
       "      <td>20.795491</td>\n",
       "      <td>41.135647</td>\n",
       "      <td>2.369353</td>\n",
       "      <td>9.920666e+01</td>\n",
       "    </tr>\n",
       "    <tr>\n",
       "      <th>min</th>\n",
       "      <td>-54.800000</td>\n",
       "      <td>-175.200000</td>\n",
       "      <td>33.800000</td>\n",
       "      <td>1.000000</td>\n",
       "      <td>0.000000</td>\n",
       "      <td>0.260000</td>\n",
       "      <td>1.597626e+09</td>\n",
       "    </tr>\n",
       "    <tr>\n",
       "      <th>25%</th>\n",
       "      <td>-5.552500</td>\n",
       "      <td>-64.095000</td>\n",
       "      <td>57.200000</td>\n",
       "      <td>59.250000</td>\n",
       "      <td>1.000000</td>\n",
       "      <td>1.560000</td>\n",
       "      <td>1.597627e+09</td>\n",
       "    </tr>\n",
       "    <tr>\n",
       "      <th>50%</th>\n",
       "      <td>26.670000</td>\n",
       "      <td>21.625000</td>\n",
       "      <td>69.800000</td>\n",
       "      <td>76.000000</td>\n",
       "      <td>40.000000</td>\n",
       "      <td>2.600000</td>\n",
       "      <td>1.597627e+09</td>\n",
       "    </tr>\n",
       "    <tr>\n",
       "      <th>75%</th>\n",
       "      <td>49.170000</td>\n",
       "      <td>96.950000</td>\n",
       "      <td>78.836000</td>\n",
       "      <td>88.000000</td>\n",
       "      <td>90.000000</td>\n",
       "      <td>4.145000</td>\n",
       "      <td>1.597627e+09</td>\n",
       "    </tr>\n",
       "    <tr>\n",
       "      <th>max</th>\n",
       "      <td>78.220000</td>\n",
       "      <td>179.320000</td>\n",
       "      <td>111.002000</td>\n",
       "      <td>100.000000</td>\n",
       "      <td>100.000000</td>\n",
       "      <td>16.500000</td>\n",
       "      <td>1.597627e+09</td>\n",
       "    </tr>\n",
       "  </tbody>\n",
       "</table>\n",
       "</div>"
      ],
      "text/plain": [
       "              Lat         Lng    Max Temp    Humidity  Cloudiness  Wind Speed  \\\n",
       "count  582.000000  582.000000  582.000000  582.000000  582.000000  582.000000   \n",
       "mean    21.474175   17.026959   67.880711   71.750859   45.651203    3.249536   \n",
       "std     33.013132   89.696055   14.022408   20.795491   41.135647    2.369353   \n",
       "min    -54.800000 -175.200000   33.800000    1.000000    0.000000    0.260000   \n",
       "25%     -5.552500  -64.095000   57.200000   59.250000    1.000000    1.560000   \n",
       "50%     26.670000   21.625000   69.800000   76.000000   40.000000    2.600000   \n",
       "75%     49.170000   96.950000   78.836000   88.000000   90.000000    4.145000   \n",
       "max     78.220000  179.320000  111.002000  100.000000  100.000000   16.500000   \n",
       "\n",
       "               Date  \n",
       "count  5.820000e+02  \n",
       "mean   1.597627e+09  \n",
       "std    9.920666e+01  \n",
       "min    1.597626e+09  \n",
       "25%    1.597627e+09  \n",
       "50%    1.597627e+09  \n",
       "75%    1.597627e+09  \n",
       "max    1.597627e+09  "
      ]
     },
     "execution_count": 14,
     "metadata": {},
     "output_type": "execute_result"
    }
   ],
   "source": [
    "weather_data.describe()"
   ]
  },
  {
   "cell_type": "code",
   "execution_count": 15,
   "metadata": {},
   "outputs": [
    {
     "name": "stdout",
     "output_type": "stream",
     "text": [
      "Number of cities with humidity > 100 is = 0 (as seen below)\n",
      "--------------------------------------------\n",
      "--------------------------------------------\n",
      "[ 87  88  80  30  61  64  71  91  78  76  86 100  77  66  67  18  93  95\n",
      "  70  81  39  84  75  36  92  68  60  74  90   7  63  98  62  65  38  85\n",
      "  69  52  22  45  94  83  37  19  44  82  24   8  49  53  54  16  50  89\n",
      "  33  32  59  73  40  48  79  55  56  97  57  72  58  28  51  23   9  31\n",
      "   1  34  26  15  42  46  96  25  13  41  47  29   6  99]\n"
     ]
    }
   ],
   "source": [
    "#  Get the indices of cities that have humidity over 100%.\n",
    "print(f\"Number of cities with humidity > 100 is = {len(weather_data.loc[weather_data['Humidity'] > 100])} (as seen below)\")\n",
    "print(\"--------------------------------------------\")\n",
    "print(\"--------------------------------------------\")\n",
    "\n",
    "print(weather_data[\"Humidity\"].unique())"
   ]
  },
  {
   "cell_type": "code",
   "execution_count": 16,
   "metadata": {},
   "outputs": [
    {
     "data": {
      "text/html": [
       "<div>\n",
       "<style scoped>\n",
       "    .dataframe tbody tr th:only-of-type {\n",
       "        vertical-align: middle;\n",
       "    }\n",
       "\n",
       "    .dataframe tbody tr th {\n",
       "        vertical-align: top;\n",
       "    }\n",
       "\n",
       "    .dataframe thead th {\n",
       "        text-align: right;\n",
       "    }\n",
       "</style>\n",
       "<table border=\"1\" class=\"dataframe\">\n",
       "  <thead>\n",
       "    <tr style=\"text-align: right;\">\n",
       "      <th></th>\n",
       "      <th>City</th>\n",
       "      <th>Lat</th>\n",
       "      <th>Lng</th>\n",
       "      <th>Max Temp</th>\n",
       "      <th>Humidity</th>\n",
       "      <th>Cloudiness</th>\n",
       "      <th>Wind Speed</th>\n",
       "      <th>Country</th>\n",
       "      <th>Date</th>\n",
       "    </tr>\n",
       "  </thead>\n",
       "  <tbody>\n",
       "    <tr>\n",
       "      <th>0</th>\n",
       "      <td>Talcahuano</td>\n",
       "      <td>-36.72</td>\n",
       "      <td>-73.12</td>\n",
       "      <td>48.200</td>\n",
       "      <td>87</td>\n",
       "      <td>0</td>\n",
       "      <td>2.10</td>\n",
       "      <td>CL</td>\n",
       "      <td>1597627040</td>\n",
       "    </tr>\n",
       "    <tr>\n",
       "      <th>1</th>\n",
       "      <td>Bathsheba</td>\n",
       "      <td>13.22</td>\n",
       "      <td>-59.52</td>\n",
       "      <td>80.600</td>\n",
       "      <td>88</td>\n",
       "      <td>75</td>\n",
       "      <td>9.30</td>\n",
       "      <td>BB</td>\n",
       "      <td>1597627040</td>\n",
       "    </tr>\n",
       "    <tr>\n",
       "      <th>2</th>\n",
       "      <td>Kavaratti</td>\n",
       "      <td>10.57</td>\n",
       "      <td>72.64</td>\n",
       "      <td>81.734</td>\n",
       "      <td>80</td>\n",
       "      <td>96</td>\n",
       "      <td>6.67</td>\n",
       "      <td>IN</td>\n",
       "      <td>1597627041</td>\n",
       "    </tr>\n",
       "    <tr>\n",
       "      <th>3</th>\n",
       "      <td>La Plata</td>\n",
       "      <td>-34.92</td>\n",
       "      <td>-57.95</td>\n",
       "      <td>62.006</td>\n",
       "      <td>30</td>\n",
       "      <td>0</td>\n",
       "      <td>1.79</td>\n",
       "      <td>AR</td>\n",
       "      <td>1597626772</td>\n",
       "    </tr>\n",
       "    <tr>\n",
       "      <th>4</th>\n",
       "      <td>Richards Bay</td>\n",
       "      <td>-28.78</td>\n",
       "      <td>32.04</td>\n",
       "      <td>59.612</td>\n",
       "      <td>61</td>\n",
       "      <td>10</td>\n",
       "      <td>3.36</td>\n",
       "      <td>ZA</td>\n",
       "      <td>1597627041</td>\n",
       "    </tr>\n",
       "    <tr>\n",
       "      <th>...</th>\n",
       "      <td>...</td>\n",
       "      <td>...</td>\n",
       "      <td>...</td>\n",
       "      <td>...</td>\n",
       "      <td>...</td>\n",
       "      <td>...</td>\n",
       "      <td>...</td>\n",
       "      <td>...</td>\n",
       "      <td>...</td>\n",
       "    </tr>\n",
       "    <tr>\n",
       "      <th>577</th>\n",
       "      <td>Lata</td>\n",
       "      <td>40.16</td>\n",
       "      <td>-8.33</td>\n",
       "      <td>64.004</td>\n",
       "      <td>94</td>\n",
       "      <td>93</td>\n",
       "      <td>1.00</td>\n",
       "      <td>PT</td>\n",
       "      <td>1597627219</td>\n",
       "    </tr>\n",
       "    <tr>\n",
       "      <th>578</th>\n",
       "      <td>Kenai</td>\n",
       "      <td>60.55</td>\n",
       "      <td>-151.26</td>\n",
       "      <td>77.000</td>\n",
       "      <td>29</td>\n",
       "      <td>1</td>\n",
       "      <td>4.10</td>\n",
       "      <td>US</td>\n",
       "      <td>1597627220</td>\n",
       "    </tr>\n",
       "    <tr>\n",
       "      <th>579</th>\n",
       "      <td>Buraidah</td>\n",
       "      <td>26.33</td>\n",
       "      <td>43.98</td>\n",
       "      <td>84.200</td>\n",
       "      <td>28</td>\n",
       "      <td>99</td>\n",
       "      <td>2.60</td>\n",
       "      <td>SA</td>\n",
       "      <td>1597627220</td>\n",
       "    </tr>\n",
       "    <tr>\n",
       "      <th>580</th>\n",
       "      <td>Sarny</td>\n",
       "      <td>51.34</td>\n",
       "      <td>26.60</td>\n",
       "      <td>59.000</td>\n",
       "      <td>68</td>\n",
       "      <td>0</td>\n",
       "      <td>1.44</td>\n",
       "      <td>UA</td>\n",
       "      <td>1597627220</td>\n",
       "    </tr>\n",
       "    <tr>\n",
       "      <th>581</th>\n",
       "      <td>Tsogni</td>\n",
       "      <td>-2.79</td>\n",
       "      <td>10.10</td>\n",
       "      <td>72.356</td>\n",
       "      <td>89</td>\n",
       "      <td>100</td>\n",
       "      <td>2.77</td>\n",
       "      <td>GA</td>\n",
       "      <td>1597627221</td>\n",
       "    </tr>\n",
       "  </tbody>\n",
       "</table>\n",
       "<p>582 rows × 9 columns</p>\n",
       "</div>"
      ],
      "text/plain": [
       "             City    Lat     Lng  Max Temp  Humidity  Cloudiness  Wind Speed  \\\n",
       "0      Talcahuano -36.72  -73.12    48.200        87           0        2.10   \n",
       "1       Bathsheba  13.22  -59.52    80.600        88          75        9.30   \n",
       "2       Kavaratti  10.57   72.64    81.734        80          96        6.67   \n",
       "3        La Plata -34.92  -57.95    62.006        30           0        1.79   \n",
       "4    Richards Bay -28.78   32.04    59.612        61          10        3.36   \n",
       "..            ...    ...     ...       ...       ...         ...         ...   \n",
       "577          Lata  40.16   -8.33    64.004        94          93        1.00   \n",
       "578         Kenai  60.55 -151.26    77.000        29           1        4.10   \n",
       "579      Buraidah  26.33   43.98    84.200        28          99        2.60   \n",
       "580         Sarny  51.34   26.60    59.000        68           0        1.44   \n",
       "581        Tsogni  -2.79   10.10    72.356        89         100        2.77   \n",
       "\n",
       "    Country        Date  \n",
       "0        CL  1597627040  \n",
       "1        BB  1597627040  \n",
       "2        IN  1597627041  \n",
       "3        AR  1597626772  \n",
       "4        ZA  1597627041  \n",
       "..      ...         ...  \n",
       "577      PT  1597627219  \n",
       "578      US  1597627220  \n",
       "579      SA  1597627220  \n",
       "580      UA  1597627220  \n",
       "581      GA  1597627221  \n",
       "\n",
       "[582 rows x 9 columns]"
      ]
     },
     "execution_count": 16,
     "metadata": {},
     "output_type": "execute_result"
    }
   ],
   "source": [
    "# Make a new DataFrame equal to the city data to drop all humidity outliers by index.\n",
    "# Passing \"inplace=False\" will make a copy of the city_data DataFrame, which we call \"clean_city_data\".\n",
    "\n",
    "clean_city_data = weather_data.drop(weather_data[weather_data[\"Humidity\"] > 100].index, inplace=False)\n",
    "\n",
    "clean_city_data\n",
    "# No records above 100"
   ]
  },
  {
   "cell_type": "code",
   "execution_count": 214,
   "metadata": {},
   "outputs": [],
   "source": [
    "# Extract relevant fields from the data frame\n",
    "\n",
    "# Export the City_Data into a csv\n",
    "\n",
    "#Done above already"
   ]
  },
  {
   "cell_type": "markdown",
   "metadata": {},
   "source": [
    "## Plotting the Data\n",
    "* Use proper labeling of the plots using plot titles (including date of analysis) and axes labels.\n",
    "* Save the plotted figures as .pngs."
   ]
  },
  {
   "cell_type": "markdown",
   "metadata": {},
   "source": [
    "## Latitude vs. Temperature Plot"
   ]
  },
  {
   "cell_type": "code",
   "execution_count": 17,
   "metadata": {
    "scrolled": true
   },
   "outputs": [
    {
     "name": "stdout",
     "output_type": "stream",
     "text": [
      "Analysis : \n",
      "This is a scatter plot of 2 'live' city weather data points - between 'Latitude' \n",
      "and 'Max temperatures' for 554 cities and what I see is that as the latitude increases or decreases\n",
      "the temperature decreases compared to latitudes that are in the middle.\n"
     ]
    },
    {
     "data": {
      "image/png": "[encoded data removed]",
      "text/plain": [
       "<Figure size 432x252 with 1 Axes>"
      ]
     },
     "metadata": {
      "needs_background": "light"
     },
     "output_type": "display_data"
    }
   ],
   "source": [
    "dateStr = pd.Timestamp(\"today\").strftime(\"%m/%d/%Y\")\n",
    "\n",
    "latTemp_df = weather_data[[\"Max Temp\",\"Lat\"]]\n",
    "latTemp_df = pd.DataFrame(latTemp_df).reset_index()\n",
    "latTemp_df = latTemp_df.rename(columns = {\"Max Temp\":\"Maximum Temperature\",\n",
    "                               \"Lat\":\"Latitude\"})\n",
    "latTemp_df.plot(kind='scatter',  x='Latitude', y='Maximum Temperature',\n",
    "                grid = True, figsize= (6,3.5))\n",
    "plt.title(\"Scatter plot of City Latitude vs. Max Temperature\" + \" on \" + dateStr)\n",
    "imgfile_name = \"../output_data/\" + \"City Latitude vs. Max Temp\" + \".png\"\n",
    "plt.savefig(imgfile_name, dpi=300)\n",
    "\n",
    "print(\"Analysis : \")\n",
    "print(\"This is a scatter plot of 2 'live' city weather data points - between 'Latitude' \" )\n",
    "print(\"and 'Max temperatures' for 554 cities and what I see is that as the latitude increases or decreases\")\n",
    "print(\"the temperature decreases compared to latitudes that are in the middle.\")\n",
    "\n"
   ]
  },
  {
   "cell_type": "markdown",
   "metadata": {},
   "source": [
    "## Latitude vs. Humidity Plot"
   ]
  },
  {
   "cell_type": "code",
   "execution_count": 18,
   "metadata": {},
   "outputs": [
    {
     "name": "stdout",
     "output_type": "stream",
     "text": [
      "Analysis : \n",
      "This is a scatter plot of 2 'live' city weather data points - between 'Latitude' \n",
      "and 'Humidity' for 554 cities and what I see is that the humidity does not seem to\n",
      "have a strong correlation to latitudes.\n"
     ]
    },
    {
     "data": {
      "image/png": "[encoded data removed]",
      "text/plain": [
       "<Figure size 504x288 with 1 Axes>"
      ]
     },
     "metadata": {
      "needs_background": "light"
     },
     "output_type": "display_data"
    }
   ],
   "source": [
    "latHumid_df = weather_data[[\"Humidity\",\"Lat\"]]\n",
    "latHumid_df = pd.DataFrame(latHumid_df).reset_index()\n",
    "latHumid_df = latHumid_df.rename(columns = {\"Humidity\":\"Humidity%\",\n",
    "                               \"Lat\":\"Latitude\"})\n",
    "latHumid_df.plot(kind='scatter',  x='Latitude', y='Humidity%',grid = True, figsize= (7,4))\n",
    "plt.title(\"Scatter plot of City Latitude vs. Humidity\"+ \" on \" + dateStr)\n",
    "imgfile_name = \"../output_data/\" + \"City Latitude vs. Hummidity\" + \".png\"\n",
    "plt.savefig(imgfile_name, dpi=300)\n",
    "\n",
    "print(\"Analysis : \")\n",
    "print(\"This is a scatter plot of 2 'live' city weather data points - between 'Latitude' \" )\n",
    "print(\"and 'Humidity' for 554 cities and what I see is that the humidity does not seem to\")\n",
    "print(\"have a strong correlation to latitudes.\")\n",
    "\n",
    "\n"
   ]
  },
  {
   "cell_type": "markdown",
   "metadata": {},
   "source": [
    "## Latitude vs. Cloudiness Plot"
   ]
  },
  {
   "cell_type": "code",
   "execution_count": 19,
   "metadata": {},
   "outputs": [
    {
     "name": "stdout",
     "output_type": "stream",
     "text": [
      "Analysis : \n",
      "This is a scatter plot of 2 'live' city weather data points - between 'Latitude' \n",
      "and 'Cloudiness' for 554 cities and what I see is that the cloudiness does not seem to have \n",
      "a strong correlation to latitudes\n"
     ]
    },
    {
     "data": {
      "image/png": "[encoded data removed]",
      "text/plain": [
       "<Figure size 432x288 with 1 Axes>"
      ]
     },
     "metadata": {
      "needs_background": "light"
     },
     "output_type": "display_data"
    }
   ],
   "source": [
    "latCloud_df = weather_data[[\"Cloudiness\",\"Lat\"]]\n",
    "latCloud_df = pd.DataFrame(latCloud_df).reset_index()\n",
    "latCloud_df = latCloud_df.rename(columns = {\"Cloudiness\":\"Cloudiness%\",\n",
    "                               \"Lat\":\"Latitude\"})\n",
    "latCloud_df.plot(kind='scatter',  x='Latitude', y='Cloudiness%',grid = True, figsize= (6,4))\n",
    "plt.title(\"Scatter plot of City Latitude vs. Cloudiness\" + \" on \" + dateStr)\n",
    "imgfile_name = \"../output_data/\" + \"City Latitude vs. Cloudiness\" + \".png\"\n",
    "plt.savefig(imgfile_name, dpi=300)\n",
    "\n",
    "print(\"Analysis : \")\n",
    "print(\"This is a scatter plot of 2 'live' city weather data points - between 'Latitude' \" )\n",
    "print(\"and 'Cloudiness' for 554 cities and what I see is that the cloudiness does not seem to have \")\n",
    "print(\"a strong correlation to latitudes\")\n",
    "\n"
   ]
  },
  {
   "cell_type": "markdown",
   "metadata": {},
   "source": [
    "## Latitude vs. Wind Speed Plot"
   ]
  },
  {
   "cell_type": "code",
   "execution_count": 20,
   "metadata": {},
   "outputs": [
    {
     "name": "stdout",
     "output_type": "stream",
     "text": [
      "Analysis : \n",
      "This is a scatter plot of 2 'live' city weather data points - between 'Latitude' \n",
      "and 'Wind Speed' for 554 cities and what I see is that the wind speed is mostly under 5\n",
      "across all latitudes, and very few cities cross 8\n"
     ]
    },
    {
     "data": {
      "image/png": "[encoded data removed]",
      "text/plain": [
       "<Figure size 432x288 with 1 Axes>"
      ]
     },
     "metadata": {
      "needs_background": "light"
     },
     "output_type": "display_data"
    }
   ],
   "source": [
    "latSpeed_df = weather_data[[\"Wind Speed\",\"Lat\"]]\n",
    "latSpeed_df = pd.DataFrame(latSpeed_df).reset_index()\n",
    "latSpeed_df = latSpeed_df.rename(columns = {\"Lat\":\"Latitude\"})\n",
    "latSpeed_df.plot(kind='scatter',  x='Latitude', y='Wind Speed',grid = True, figsize= (6,4))\n",
    "plt.title(\"Scatter plot of City Latitude vs. Wind Speed\" + \" on \" + dateStr)\n",
    "imgfile_name = \"../output_data/\" + \"City Latitude vs. Wind Speed\" + \".png\"\n",
    "plt.savefig(imgfile_name, dpi=300)\n",
    "\n",
    "print(\"Analysis : \")\n",
    "print(\"This is a scatter plot of 2 'live' city weather data points - between 'Latitude' \" )\n",
    "print(\"and 'Wind Speed' for 554 cities and what I see is that the wind speed is mostly under 5\")\n",
    "print(\"across all latitudes, and very few cities cross 8\")\n",
    "\n"
   ]
  },
  {
   "cell_type": "markdown",
   "metadata": {},
   "source": [
    "## Linear Regression"
   ]
  },
  {
   "cell_type": "code",
   "execution_count": 68,
   "metadata": {},
   "outputs": [],
   "source": [
    "# OPTIONAL: Create a function to create Linear Regression plots\n",
    "def linregPlot(x,y,xname,yname,title,annX,annY):\n",
    "    start = \"\\033[1m\"\n",
    "    end = \"\\033[0;0m\"\n",
    "    (slope, intercept, rvalue, pvalue, stderr) = linregress(x, y)\n",
    "    regress_values = x * slope + intercept\n",
    "    line_eq = \"y =\" + str(round(slope,2)) + \"x + \" + str(round(intercept,2))\n",
    "\n",
    "    \n",
    "    print(\"-------------------------------------------\")\n",
    "    print(f\"The r-squared is : {rvalue**2}\")\n",
    "    print(\"-------------------------------------------\")\n",
    "    \n",
    "    print(\"\")\n",
    "    print(f\"{start}ANALYSIS of : {title} {end}\")\n",
    "\n",
    "    if rvalue <= -.5:\n",
    "        print(f\"Based on the r value there is a 'reasonable negative' correlation betn '{xname}' and '{yname}'\")\n",
    "    elif rvalue >= .5:\n",
    "        print(f\"Based on the r value there is a 'reasonable positive' correlation betn '{xname}' and '{yname}'\")\n",
    "    else:\n",
    "        print(f\"Based on the r value there is 'no reasonable positive or negative' correlation betn '{xname}' and '{yname}'\")\n",
    "\n",
    "    print(\"\")\n",
    "\n",
    "    plt.scatter(x, y)\n",
    "    plt.plot(x,regress_values,\"r-\")\n",
    "    plt.annotate(line_eq,(annX,annY),fontsize=10,color=\"red\")\n",
    "    plt.xlabel(xname)\n",
    "    plt.ylabel(yname)\n",
    "    plt.title(title)\n",
    "    plt.show()\n",
    "    \n",
    "    \n",
    "    "
   ]
  },
  {
   "cell_type": "code",
   "execution_count": 69,
   "metadata": {},
   "outputs": [
    {
     "name": "stdout",
     "output_type": "stream",
     "text": [
      "409 173\n"
     ]
    }
   ],
   "source": [
    "# Create Northern and Southern Hemisphere DataFrames\n",
    "north_df = weather_data.loc[weather_data[\"Lat\"] >= 0]\n",
    "south_df = weather_data.loc[weather_data[\"Lat\"] < 0]\n",
    "print(len(north_df),len(south_df))"
   ]
  },
  {
   "cell_type": "markdown",
   "metadata": {},
   "source": [
    "####  Northern Hemisphere - Max Temp vs. Latitude Linear Regression"
   ]
  },
  {
   "cell_type": "code",
   "execution_count": 70,
   "metadata": {},
   "outputs": [
    {
     "name": "stdout",
     "output_type": "stream",
     "text": [
      "-------------------------------------------\n",
      "The r-squared is : 0.496507549089436\n",
      "-------------------------------------------\n",
      "\n",
      "\u001b[1mANALYSIS of : Max Temp vs. Latitude Linear Regression (Northern Hemisphere) \u001b[0;0m\n",
      "Based on the r value there is a 'reasonable negative' correlation betn 'Latitude' and 'Max Temp'\n",
      "\n"
     ]
    },
    {
     "data": {
      "image/png": "[encoded data removed]",
      "text/plain": [
       "<Figure size 432x288 with 1 Axes>"
      ]
     },
     "metadata": {
      "needs_background": "light"
     },
     "output_type": "display_data"
    }
   ],
   "source": [
    "x_val_N = north_df[\"Lat\"]\n",
    "y_val_N = north_df[\"Max Temp\"]\n",
    "\n",
    "linregPlot(x_val_N,y_val_N,\"Latitude\",\"Max Temp\",\"Max Temp vs. Latitude Linear Regression (Northern Hemisphere)\",20,40)\n"
   ]
  },
  {
   "cell_type": "markdown",
   "metadata": {},
   "source": [
    "####  Southern Hemisphere - Max Temp vs. Latitude Linear Regression"
   ]
  },
  {
   "cell_type": "code",
   "execution_count": 71,
   "metadata": {},
   "outputs": [
    {
     "name": "stdout",
     "output_type": "stream",
     "text": [
      "-------------------------------------------\n",
      "The r-squared is : 0.6144759121913289\n",
      "-------------------------------------------\n",
      "\n",
      "\u001b[1mANALYSIS of : Max Temp vs. Latitude Linear Regression (Southern Hemisphere) \u001b[0;0m\n",
      "Based on the r value there is a 'reasonable positive' correlation betn 'Latitude' and 'Max Temp'\n",
      "\n"
     ]
    },
    {
     "data": {
      "image/png": "[encoded data removed]",
      "text/plain": [
       "<Figure size 432x288 with 1 Axes>"
      ]
     },
     "metadata": {
      "needs_background": "light"
     },
     "output_type": "display_data"
    }
   ],
   "source": [
    "x_val_S = south_df[\"Lat\"]\n",
    "y_val_S = south_df[\"Max Temp\"]\n",
    "linregPlot(x_val_S,y_val_S,\"Latitude\",\"Max Temp\",\"Max Temp vs. Latitude Linear Regression (Southern Hemisphere)\",-40,30)\n"
   ]
  },
  {
   "cell_type": "markdown",
   "metadata": {},
   "source": [
    "####  Northern Hemisphere - Humidity (%) vs. Latitude Linear Regression"
   ]
  },
  {
   "cell_type": "code",
   "execution_count": 72,
   "metadata": {},
   "outputs": [
    {
     "name": "stdout",
     "output_type": "stream",
     "text": [
      "-------------------------------------------\n",
      "The r-squared is : 0.005197059512597938\n",
      "-------------------------------------------\n",
      "\n",
      "\u001b[1mANALYSIS of : Humidity vs. Latitude Linear Regression (Northern Hemisphere) \u001b[0;0m\n",
      "Based on the r value there is 'no reasonable positive or negative' correlation betn 'Latitude' and 'Humidity'\n",
      "\n"
     ]
    },
    {
     "data": {
      "image/png": "[encoded data removed]",
      "text/plain": [
       "<Figure size 432x288 with 1 Axes>"
      ]
     },
     "metadata": {
      "needs_background": "light"
     },
     "output_type": "display_data"
    }
   ],
   "source": [
    "x_val_Nh = north_df[\"Lat\"]\n",
    "y_val_Nh = north_df[\"Humidity\"]\n",
    "linregPlot(x_val_Nh,y_val_Nh,\"Latitude\",\"Humidity\",\"Humidity vs. Latitude Linear Regression (Northern Hemisphere)\",50,10)\n"
   ]
  },
  {
   "cell_type": "markdown",
   "metadata": {},
   "source": [
    "####  Southern Hemisphere - Humidity (%) vs. Latitude Linear Regression"
   ]
  },
  {
   "cell_type": "code",
   "execution_count": 73,
   "metadata": {},
   "outputs": [
    {
     "name": "stdout",
     "output_type": "stream",
     "text": [
      "-------------------------------------------\n",
      "The r-squared is : 0.0033399786569090913\n",
      "-------------------------------------------\n",
      "\n",
      "\u001b[1mANALYSIS of : Humidity vs. Latitude Linear Regression (Southern Hemisphere) \u001b[0;0m\n",
      "Based on the r value there is 'no reasonable positive or negative' correlation betn 'Latitude' and 'Humidity'\n",
      "\n"
     ]
    },
    {
     "data": {
      "image/png": "[encoded data removed]",
      "text/plain": [
       "<Figure size 432x288 with 1 Axes>"
      ]
     },
     "metadata": {
      "needs_background": "light"
     },
     "output_type": "display_data"
    }
   ],
   "source": [
    "x_val_Sh = south_df[\"Lat\"]\n",
    "y_val_Sh = south_df[\"Humidity\"]\n",
    "linregPlot(x_val_Sh,y_val_Sh,\"Latitude\",\"Humidity\",\"Humidity vs. Latitude Linear Regression (Southern Hemisphere)\",-50,15)\n",
    "\n"
   ]
  },
  {
   "cell_type": "markdown",
   "metadata": {},
   "source": [
    "####  Northern Hemisphere - Cloudiness (%) vs. Latitude Linear Regression"
   ]
  },
  {
   "cell_type": "code",
   "execution_count": 74,
   "metadata": {},
   "outputs": [
    {
     "name": "stdout",
     "output_type": "stream",
     "text": [
      "-------------------------------------------\n",
      "The r-squared is : 0.014152652477886156\n",
      "-------------------------------------------\n",
      "\n",
      "\u001b[1mANALYSIS of : Cloudiness vs. Latitude Linear Regression (Northern Hemisphere) \u001b[0;0m\n",
      "Based on the r value there is 'no reasonable positive or negative' correlation betn 'Latitude' and 'Cloudiness'\n",
      "\n"
     ]
    },
    {
     "data": {
      "image/png": "[encoded data removed]",
      "text/plain": [
       "<Figure size 432x288 with 1 Axes>"
      ]
     },
     "metadata": {
      "needs_background": "light"
     },
     "output_type": "display_data"
    }
   ],
   "source": [
    "x_val_Nc = north_df[\"Lat\"]\n",
    "y_val_Nc = north_df[\"Cloudiness\"]\n",
    "linregPlot(x_val_Nc,y_val_Nc,\"Latitude\",\"Cloudiness\",\"Cloudiness vs. Latitude Linear Regression (Northern Hemisphere)\",1,7)\n",
    "\n"
   ]
  },
  {
   "cell_type": "markdown",
   "metadata": {},
   "source": [
    "####  Southern Hemisphere - Cloudiness (%) vs. Latitude Linear Regression"
   ]
  },
  {
   "cell_type": "code",
   "execution_count": 75,
   "metadata": {},
   "outputs": [
    {
     "name": "stdout",
     "output_type": "stream",
     "text": [
      "-------------------------------------------\n",
      "The r-squared is : 0.002053216542245395\n",
      "-------------------------------------------\n",
      "\n",
      "\u001b[1mANALYSIS of : Cloudiness vs. Latitude Linear Regression (Southern Hemisphere) \u001b[0;0m\n",
      "Based on the r value there is 'no reasonable positive or negative' correlation betn 'Latitude' and 'Cloudiness'\n",
      "\n"
     ]
    },
    {
     "data": {
      "image/png": "[encoded data removed]",
      "text/plain": [
       "<Figure size 432x288 with 1 Axes>"
      ]
     },
     "metadata": {
      "needs_background": "light"
     },
     "output_type": "display_data"
    }
   ],
   "source": [
    "x_val_Sc = south_df[\"Lat\"]\n",
    "y_val_Sc = south_df[\"Cloudiness\"]\n",
    "\n",
    "linregPlot(x_val_Sc,y_val_Sc,\"Latitude\",\"Cloudiness\",\"Cloudiness vs. Latitude Linear Regression (Southern Hemisphere)\",-50,10)\n"
   ]
  },
  {
   "cell_type": "markdown",
   "metadata": {},
   "source": [
    "####  Northern Hemisphere - Wind Speed (mph) vs. Latitude Linear Regression"
   ]
  },
  {
   "cell_type": "code",
   "execution_count": 76,
   "metadata": {},
   "outputs": [
    {
     "name": "stdout",
     "output_type": "stream",
     "text": [
      "-------------------------------------------\n",
      "The r-squared is : 0.0030715628879074562\n",
      "-------------------------------------------\n",
      "\n",
      "\u001b[1mANALYSIS of : Wind Speed vs. Latitude Linear Regression (Northern Hemisphere) \u001b[0;0m\n",
      "Based on the r value there is 'no reasonable positive or negative' correlation betn 'Latitude' and 'Wind Speed'\n",
      "\n"
     ]
    },
    {
     "data": {
      "image/png": "[encoded data removed]",
      "text/plain": [
       "<Figure size 432x288 with 1 Axes>"
      ]
     },
     "metadata": {
      "needs_background": "light"
     },
     "output_type": "display_data"
    }
   ],
   "source": [
    "x_val_Nsp = north_df[\"Lat\"]\n",
    "y_val_Nsp = north_df[\"Wind Speed\"]\n",
    "\n",
    "linregPlot(x_val_Nsp,y_val_Nsp,\"Latitude\",\"Wind Speed\",\"Wind Speed vs. Latitude Linear Regression (Northern Hemisphere)\",10,12)\n"
   ]
  },
  {
   "cell_type": "markdown",
   "metadata": {},
   "source": [
    "####  Southern Hemisphere - Wind Speed (mph) vs. Latitude Linear Regression"
   ]
  },
  {
   "cell_type": "code",
   "execution_count": 77,
   "metadata": {},
   "outputs": [
    {
     "name": "stdout",
     "output_type": "stream",
     "text": [
      "-------------------------------------------\n",
      "The r-squared is : 0.029535787636156708\n",
      "-------------------------------------------\n",
      "\n",
      "\u001b[1mANALYSIS of : Wind Speed vs. Latitude Linear Regression (Southern Hemisphere) \u001b[0;0m\n",
      "Based on the r value there is 'no reasonable positive or negative' correlation betn 'Latitude' and 'Wind Speed'\n",
      "\n"
     ]
    },
    {
     "data": {
      "image/png": "[encoded data removed]",
      "text/plain": [
       "<Figure size 432x288 with 1 Axes>"
      ]
     },
     "metadata": {
      "needs_background": "light"
     },
     "output_type": "display_data"
    }
   ],
   "source": [
    "x_val_Ssp = south_df[\"Lat\"]\n",
    "y_val_Ssp = south_df[\"Wind Speed\"]\n",
    "\n",
    "linregPlot(x_val_Ssp,y_val_Ssp,\"Latitude\",\"Wind Speed\",\"Wind Speed vs. Latitude Linear Regression (Southern Hemisphere)\",-50,9)\n"
   ]
  },
  {
   "cell_type": "code",
   "execution_count": null,
   "metadata": {},
   "outputs": [],
   "source": []
  }
 ],
 "metadata": {
  "anaconda-cloud": {},
  "kernel_info": {
   "name": "python3"
  },
  "kernelspec": {
   "display_name": "Python 3",
   "language": "python",
   "name": "python3"
  },
  "language_info": {
   "codemirror_mode": {
    "name": "ipython",
    "version": 3
   },
   "file_extension": ".py",
   "mimetype": "text/x-python",
   "name": "python",
   "nbconvert_exporter": "python",
   "pygments_lexer": "ipython3",
   "version": "3.7.6"
  },
  "latex_envs": {
   "LaTeX_envs_menu_present": true,
   "autoclose": false,
   "autocomplete": true,
   "bibliofile": "biblio.bib",
   "cite_by": "apalike",
   "current_citInitial": 1,
   "eqLabelWithNumbers": true,
   "eqNumInitial": 1,
   "hotkeys": {
    "equation": "Ctrl-E",
    "itemize": "Ctrl-I"
   },
   "labels_anchors": false,
   "latex_user_defs": false,
   "report_style_numbering": false,
   "user_envs_cfg": false
  },
  "nteract": {
   "version": "0.12.3"
  }
 },
 "nbformat": 4,
 "nbformat_minor": 2
}
